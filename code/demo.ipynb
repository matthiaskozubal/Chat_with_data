{
  "nbformat": 4,
  "nbformat_minor": 0,
  "metadata": {
    "colab": {
      "provenance": [],
      "authorship_tag": "ABX9TyO1MmXnzF1XW1AnJYCTdqXT",
      "include_colab_link": true
    },
    "kernelspec": {
      "name": "python3",
      "display_name": "Python 3"
    },
    "language_info": {
      "name": "python"
    }
  },
  "cells": [
    {
      "cell_type": "markdown",
      "metadata": {
        "id": "view-in-github",
        "colab_type": "text"
      },
      "source": [
        "<a href=\"https://colab.research.google.com/github/matthiaskozubal/Chat_with_data/blob/main/code/demo.ipynb\" target=\"_parent\"><img src=\"https://colab.research.google.com/assets/colab-badge.svg\" alt=\"Open In Colab\"/></a>"
      ]
    },
    {
      "cell_type": "markdown",
      "source": [
        "# Chat with data\n",
        "Dynamic, LLM-powered quering over PDFs, using either predefined PDFs or yours (from your google drive).\n",
        "\n",
        "## How to use\n",
        "1. **Run code**:\n",
        "  - Click `Runtime` -> `Run all` or hit `Ctrl+F9`\n",
        "2. **Choose PDFs source**: When prompted in the 'User Input' section:\n",
        "  - type **author's** or hit **Enter** (to use predefined PDFs)\n",
        "  - type **mine** and ensure (to use your PDFs):\n",
        "    - a folder named `PDFs` is in your Google Drive with your PDFs inside"
      ],
      "metadata": {
        "id": "X6-dc12WRk5V"
      }
    },
    {
      "cell_type": "markdown",
      "source": [
        "# Setup"
      ],
      "metadata": {
        "id": "2h09FiLyx2Tt"
      }
    },
    {
      "cell_type": "markdown",
      "source": [
        "## Libraries"
      ],
      "metadata": {
        "id": "5cA0uUhAyHwZ"
      }
    },
    {
      "cell_type": "code",
      "source": [
        "from google.colab import drive"
      ],
      "metadata": {
        "id": "U701MpH0x-fv"
      },
      "execution_count": 12,
      "outputs": []
    },
    {
      "cell_type": "markdown",
      "source": [
        "## Constants"
      ],
      "metadata": {
        "id": "hh2VPDS8yL52"
      }
    },
    {
      "cell_type": "code",
      "source": [
        "PREDEFINED_FOLDER_PATH = 'content/drive/My Drive/PDFs'\n",
        "AUTHORS_GOOGLE_DRIVE_SHARED_FOLDER_LINK = 'pass'"
      ],
      "metadata": {
        "id": "tvmFfaWHyNRF"
      },
      "execution_count": 31,
      "outputs": []
    },
    {
      "cell_type": "markdown",
      "source": [
        "## Functions"
      ],
      "metadata": {
        "id": "HUItie_vyJdJ"
      }
    },
    {
      "cell_type": "code",
      "source": [
        "def get_user_choice(verbose=False):\n",
        "  PDFs_source_choice = input(f\"Choose PDF source (author's/user's) [default: author's]: \")\n",
        "  if PDFs_source_choice not in ['author\\'s', 'user\\'s']:\n",
        "    PDFs_source_choice = 'author\\'s'\n",
        "\n",
        "  if verbose:\n",
        "    print(PDFs_source_choice)\n",
        "\n",
        "  return PDFs_source_choice\n",
        "\n",
        "# PDFs_source_choice = get_user_choice(verbose=True)"
      ],
      "metadata": {
        "colab": {
          "base_uri": "https://localhost:8080/"
        },
        "id": "gNjsfhSiwwo0",
        "outputId": "09e6eada-8ec7-485a-eee4-4323379b7160"
      },
      "execution_count": 29,
      "outputs": [
        {
          "output_type": "stream",
          "name": "stdout",
          "text": [
            "Choose PDF source (author's/user's) [default: author's]: \n",
            "author's\n"
          ]
        }
      ]
    },
    {
      "cell_type": "code",
      "source": [
        "def connect_to_google_drive():\n",
        "\tdrive.mount('/content/drive')"
      ],
      "metadata": {
        "id": "A4P5Vniwwwcf"
      },
      "execution_count": 22,
      "outputs": []
    },
    {
      "cell_type": "code",
      "source": [
        "def query_over_PDFs(PDFs_source_choice, PREDEFINED_FOLDER_PATH, verbose=False):\n",
        "\n",
        "  if PDFs_source_choice == 'author\\'s':\n",
        "    folder_link = AUTHORS_GOOGLE_DRIVE_SHARED_FOLDER_LINK\n",
        "    print(f\"...\")\n",
        "  elif PDFs_source_choice == 'user\\'s':\n",
        "    connect_to_drive()\n",
        "    print(f\"...\")\n",
        "    if os.path.exists(PREDEFINED_FOLDER_PATH):\n",
        "        pdf_files = [f for f in os.listdir(PREDEFINED_FOLDER_PATH) if f.endswith('.pdf')]\n",
        "\n",
        "  # querying over PDFs\n",
        "  #...\n",
        "\n",
        "  if verbose:\n",
        "    print(f\"{folder_link}: {PREDEFINED_FOLDER_PATH}\")\n",
        "\n",
        "\n",
        "query_over_PDFs(PDFs_source_choice, PREDEFINED_FOLDER_PATH, verbose=True)"
      ],
      "metadata": {
        "colab": {
          "base_uri": "https://localhost:8080/"
        },
        "id": "R22I_7Xl-DQ0",
        "outputId": "454e73c6-7176-4bbf-d4c3-787dc244ed8b"
      },
      "execution_count": 34,
      "outputs": [
        {
          "output_type": "stream",
          "name": "stdout",
          "text": [
            "pass: content/drive/My Drive/PDFs\n"
          ]
        }
      ]
    },
    {
      "cell_type": "code",
      "source": [
        "def get_user_question(verbose=False):\n",
        "  user_question = input(f\"Ask a question to the PDFs\")\n",
        "  if user_question == '':\n",
        "    user_question = '''\n",
        "      What is the bias and variance in terms of machine learning?\n",
        "      '''\n",
        "  if verbose:\n",
        "    print(user_question)\n",
        "\n",
        "  return user_question\n",
        "\n",
        "# user_question = get_user_question(verbose=True)"
      ],
      "metadata": {
        "id": "e9nw3x8rAWua"
      },
      "execution_count": 35,
      "outputs": []
    },
    {
      "cell_type": "markdown",
      "source": [
        "# Main"
      ],
      "metadata": {
        "id": "jD2mRlF5AOT_"
      }
    },
    {
      "cell_type": "code",
      "source": [
        "PDFs_source_choice = get_user_choice(verbose=True)"
      ],
      "metadata": {
        "colab": {
          "base_uri": "https://localhost:8080/"
        },
        "id": "LslsJt4Twv54",
        "outputId": "9f632468-57a8-4996-9035-44135af02310"
      },
      "execution_count": 36,
      "outputs": [
        {
          "output_type": "stream",
          "name": "stdout",
          "text": [
            "Choose PDF source (author's/user's) [default: author's]: \n",
            "author's\n"
          ]
        }
      ]
    },
    {
      "cell_type": "code",
      "source": [
        "user_question = get_user_question(verbose=True)"
      ],
      "metadata": {
        "colab": {
          "base_uri": "https://localhost:8080/"
        },
        "id": "UMR9I-vIATFu",
        "outputId": "ab606002-dfc8-49d2-8a2c-1aff407e9aa7"
      },
      "execution_count": 37,
      "outputs": [
        {
          "output_type": "stream",
          "name": "stdout",
          "text": [
            "Ask a question to the PDFs\n",
            "\n",
            "      What is the bias and variance in terms of machine learning.\n",
            "      \n"
          ]
        }
      ]
    },
    {
      "cell_type": "code",
      "source": [],
      "metadata": {
        "id": "97Lzin82AxK9"
      },
      "execution_count": null,
      "outputs": []
    }
  ]
}